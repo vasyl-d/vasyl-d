{
  "nbformat": 4,
  "nbformat_minor": 0,
  "metadata": {
    "colab": {
      "provenance": [],
      "authorship_tag": "ABX9TyMPB6Za2kxFBl5O/UnjXaHt",
      "include_colab_link": true
    },
    "kernelspec": {
      "name": "python3",
      "display_name": "Python 3"
    },
    "language_info": {
      "name": "python"
    }
  },
  "cells": [
    {
      "cell_type": "markdown",
      "metadata": {
        "id": "view-in-github",
        "colab_type": "text"
      },
      "source": [
        "<a href=\"https://colab.research.google.com/github/vasyl-d/vasyl-d/blob/main/Invoice.ipynb\" target=\"_parent\"><img src=\"https://colab.research.google.com/assets/colab-badge.svg\" alt=\"Open In Colab\"/></a>"
      ]
    },
    {
      "cell_type": "code",
      "execution_count": 15,
      "metadata": {
        "colab": {
          "base_uri": "https://localhost:8080/"
        },
        "cellView": "form",
        "id": "TanQWfJJd0Ai",
        "outputId": "66961aa9-5836-4bdf-80ef-8cec817bab99"
      },
      "outputs": [
        {
          "output_type": "stream",
          "name": "stdout",
          "text": [
            "amount id order_id price title type service warranty warranty_period\n",
            "2.0 1475063 40507320 220.0 Драйвер IR2110STRPBF мікросхема (драйвер транзистора) ECOF Bluetti 0 False 0 0\n",
            "2.0 1475064 40507320 130.0 Транзистор MOS IRFB3077PBF N-канал 75В 210А, [TO-220AB]IRFB3077PBF Транзистор польовий MOSFET 0 False 0 0\n",
            "4.0 1475065 40507320 220.0 Транзистор IGBT IXYP20N65C3D1 TO-220 650V 20A 0 False 0 0\n",
            "1.0 1475066 40507320 70.0 ECAP-RD-47mkf - 450v (105°C) (RD) Конденсатор електролітичний 0 False 0 0\n",
            "2.0 1475067 40507320 100.0 Транзистор MOS IRF1407PBF Транзистор польовий MOSFET ECOF Bluett 0 False 0 0\n",
            "1.0 1475068 40507320 6800.0 Ремонт плати інвертора 2 True 3 1\n"
          ]
        }
      ],
      "source": [
        "#@title Получить таблицу счета по его номеру\n",
        "invoiceNum = \"1109\" #@param {type:\"string\"}\n",
        "apiKey = \"f0b3e83a73964060b1cfc68c43802e42\" #@param {type: \"string\"}\n",
        "\n",
        "import requests\n",
        "\n",
        "def getToken(apiKey):\n",
        "  url = 'https://api.remonline.app/token/new'\n",
        "  token = None\n",
        "  payload={'api_key': apiKey}\n",
        "  files=[\n",
        "\n",
        "  ]\n",
        "  headers = {}\n",
        "  try:\n",
        "      response = requests.request(\"POST\", url, headers=headers, data=payload, files=files)\n",
        "      response.raise_for_status()\n",
        "      data = response.json()\n",
        "      token = data[\"token\"]\n",
        "  except Exception as error:\n",
        "      print(error)\n",
        "  return token\n",
        "\n",
        "def getInvoice(token, invoiceNum):\n",
        "  url = f'https://api.remonline.app/invoice/?token={token}&id_labels[]={invoiceNum}'\n",
        "  payload={}\n",
        "  files=[\n",
        "\n",
        "  ]\n",
        "  headers = {}\n",
        "  retData = []\n",
        "  try:\n",
        "    response = requests.request(\"GET\", url, headers=headers, data=payload, files=files)\n",
        "    response.raise_for_status()\n",
        "    data = response.json()\n",
        "    retData = data.get(\"data\",[])[0]\n",
        "  except Exception as error:\n",
        "      print(error)\n",
        "  return retData\n",
        "\n",
        "def getInvoiceTable(invoice, tableType):\n",
        "  res = []\n",
        "  for ind, el in enumerate(invoice.get(\"products\", [])):\n",
        "    isServ = el.get(\"service\", 'False')\n",
        "    if ind==0:\n",
        "      res.append(list(el.keys()))\n",
        "    if isServ == True and tableType == 'services' or isServ == False and tableType == 'parts' or tableType == 'all':\n",
        "      res.append(list(el.values()))\n",
        "  return res\n",
        "\n",
        "token = getToken(apiKey)\n",
        "if token:\n",
        "  invoice = getInvoice(token, invoiceNum)\n",
        "  [print(*el) for el in getInvoiceTable(invoice, 'all')]"
      ]
    },
    {
      "cell_type": "markdown",
      "source": [],
      "metadata": {
        "id": "qVJEqbkie8NO"
      }
    },
    {
      "cell_type": "code",
      "source": [
        "#@title Получить таблицу услуг из счета\n",
        "[print(*el) for el in getInvoiceTable(invoice, 'services')]"
      ],
      "metadata": {
        "colab": {
          "base_uri": "https://localhost:8080/"
        },
        "cellView": "form",
        "id": "bOLE00fEsJj6",
        "outputId": "1ef0999d-c4e2-4378-f695-62bb96916b59"
      },
      "execution_count": 17,
      "outputs": [
        {
          "output_type": "stream",
          "name": "stdout",
          "text": [
            "amount id order_id price title type service warranty warranty_period\n",
            "1.0 1475068 40507320 6800.0 Ремонт плати інвертора 2 True 3 1\n"
          ]
        },
        {
          "output_type": "execute_result",
          "data": {
            "text/plain": [
              "[None, None]"
            ]
          },
          "metadata": {},
          "execution_count": 17
        }
      ]
    },
    {
      "cell_type": "code",
      "source": [
        "#@title Получить таблицу запчастей из счета\n",
        "[print(*el) for el in getInvoiceTable(invoice, 'parts')]"
      ],
      "metadata": {
        "colab": {
          "base_uri": "https://localhost:8080/"
        },
        "cellView": "form",
        "id": "CUyFJOlVtdwe",
        "outputId": "c4653a1e-162d-45ec-9c5e-22f8a1a7b162"
      },
      "execution_count": 20,
      "outputs": [
        {
          "output_type": "stream",
          "name": "stdout",
          "text": [
            "amount id order_id price title type service warranty warranty_period\n",
            "2.0 1475063 40507320 220.0 Драйвер IR2110STRPBF мікросхема (драйвер транзистора) ECOF Bluetti 0 False 0 0\n",
            "2.0 1475064 40507320 130.0 Транзистор MOS IRFB3077PBF N-канал 75В 210А, [TO-220AB]IRFB3077PBF Транзистор польовий MOSFET 0 False 0 0\n",
            "4.0 1475065 40507320 220.0 Транзистор IGBT IXYP20N65C3D1 TO-220 650V 20A 0 False 0 0\n",
            "1.0 1475066 40507320 70.0 ECAP-RD-47mkf - 450v (105°C) (RD) Конденсатор електролітичний 0 False 0 0\n",
            "2.0 1475067 40507320 100.0 Транзистор MOS IRF1407PBF Транзистор польовий MOSFET ECOF Bluett 0 False 0 0\n"
          ]
        },
        {
          "output_type": "execute_result",
          "data": {
            "text/plain": [
              "[None, None, None, None, None, None]"
            ]
          },
          "metadata": {},
          "execution_count": 20
        }
      ]
    }
  ]
}